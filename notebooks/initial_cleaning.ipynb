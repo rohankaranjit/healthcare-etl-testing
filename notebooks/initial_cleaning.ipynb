{
 "cells": [
  {
   "cell_type": "code",
   "execution_count": 29,
   "metadata": {},
   "outputs": [
    {
     "name": "stderr",
     "output_type": "stream",
     "text": [
      "25/07/02 20:52:37 WARN SparkSession: Using an existing Spark session; only runtime SQL configurations will take effect.\n"
     ]
    }
   ],
   "source": [
    "from pyspark.sql import SparkSession\n",
    "spark = SparkSession.builder.appName(\"MedicareETL\").getOrCreate()"
   ]
  },
  {
   "cell_type": "code",
   "execution_count": 30,
   "metadata": {},
   "outputs": [
    {
     "name": "stdout",
     "output_type": "stream",
     "text": [
      "+-----------+--------------------+--------------------+---------+-----+--------+-------------+----------------+--------------------+--------------------+------------------+------------------------------------------------+-----------------------+--------------------------------+------------------------+-------------------------------+-----------------------------+-----------------------------------+----------------------------+-------------------+--------------------------+---------------------------------+-------------------------------+-------------------------------------+------------------------------+---------------------+-------------------------+--------------------------------+------------------------------+------------------------------------+-----------------------------+--------------------+--------------------------+---------------------------------+---------------------+----------------------+-----------------------------+-----------------+\n",
      "|Facility ID|       Facility Name|             Address|City/Town|State|ZIP Code|County/Parish|Telephone Number|       Hospital Type|  Hospital Ownership|Emergency Services|Meets criteria for birthing friendly designation|Hospital overall rating|Hospital overall rating footnote|MORT Group Measure Count|Count of Facility MORT Measures|Count of MORT Measures Better|Count of MORT Measures No Different|Count of MORT Measures Worse|MORT Group Footnote|Safety Group Measure Count|Count of Facility Safety Measures|Count of Safety Measures Better|Count of Safety Measures No Different|Count of Safety Measures Worse|Safety Group Footnote|READM Group Measure Count|Count of Facility READM Measures|Count of READM Measures Better|Count of READM Measures No Different|Count of READM Measures Worse|READM Group Footnote|Pt Exp Group Measure Count|Count of Facility Pt Exp Measures|Pt Exp Group Footnote|TE Group Measure Count|Count of Facility TE Measures|TE Group Footnote|\n",
      "+-----------+--------------------+--------------------+---------+-----+--------+-------------+----------------+--------------------+--------------------+------------------+------------------------------------------------+-----------------------+--------------------------------+------------------------+-------------------------------+-----------------------------+-----------------------------------+----------------------------+-------------------+--------------------------+---------------------------------+-------------------------------+-------------------------------------+------------------------------+---------------------+-------------------------+--------------------------------+------------------------------+------------------------------------+-----------------------------+--------------------+--------------------------+---------------------------------+---------------------+----------------------+-----------------------------+-----------------+\n",
      "|    10001.0|SOUTHEAST HEALTH ...|1108 ROSS CLARK C...|   DOTHAN|   AL|   36301|      HOUSTON|  (334) 793-8701|Acute Care Hospitals|Government - Hosp...|               Yes|                                               Y|                      3|                            NULL|                       7|                              7|                            1|                                  6|                           0|               NULL|                         8|                                7|                              2|                                    5|                             0|                 NULL|                       11|                              11|                             1|                                   8|                            2|                NULL|                         8|                                8|                 NULL|                    12|                           10|             NULL|\n",
      "|    10005.0|MARSHALL MEDICAL ...|2505 U S HIGHWAY ...|     BOAZ|   AL|   35957|     MARSHALL|  (256) 593-8310|Acute Care Hospitals|Government - Hosp...|               Yes|                                            NULL|                      2|                            NULL|                       7|                              6|                            0|                                  5|                           1|               NULL|                         8|                                7|                              0|                                    7|                             0|                 NULL|                       11|                               9|                             0|                                   8|                            1|                NULL|                         8|                                8|                 NULL|                    12|                           12|             NULL|\n",
      "|    10006.0|NORTH ALABAMA MED...| 1701 VETERANS DRIVE| FLORENCE|   AL|   35630|   LAUDERDALE|  (256) 768-8400|Acute Care Hospitals|         Proprietary|               Yes|                                               Y|                      1|                            NULL|                       7|                              7|                            0|                                  6|                           1|               NULL|                         8|                                7|                              3|                                    4|                             0|                 NULL|                       11|                               9|                             0|                                   7|                            2|                NULL|                         8|                                8|                 NULL|                    12|                           11|             NULL|\n",
      "|    10007.0|MIZELL MEMORIAL H...|       702 N MAIN ST|      OPP|   AL|   36467|    COVINGTON|  (334) 493-3541|Acute Care Hospitals|Voluntary non-pro...|               Yes|                                            NULL|                      1|                            NULL|                       7|                              3|                            0|                                  2|                           1|               NULL|                         8|                                2|                              0|                                    2|                             0|                 NULL|                       11|                               7|                             0|                                   7|                            0|                NULL|                         8|                                8|                 NULL|                    12|                            7|             NULL|\n",
      "|    10008.0|CRENSHAW COMMUNIT...| 101 HOSPITAL CIRCLE|  LUVERNE|   AL|   36049|     CRENSHAW|  (334) 335-3374|Acute Care Hospitals|         Proprietary|               Yes|                                            NULL|          Not Available|                              16|                       7|                  Not Available|                Not Available|                      Not Available|               Not Available|                  5|                         8|                    Not Available|                  Not Available|                        Not Available|                 Not Available|                    5|                       11|                               2|                             0|                                   2|                            0|                NULL|                         8|                    Not Available|                    5|                    12|                            6|             NULL|\n",
      "+-----------+--------------------+--------------------+---------+-----+--------+-------------+----------------+--------------------+--------------------+------------------+------------------------------------------------+-----------------------+--------------------------------+------------------------+-------------------------------+-----------------------------+-----------------------------------+----------------------------+-------------------+--------------------------+---------------------------------+-------------------------------+-------------------------------------+------------------------------+---------------------+-------------------------+--------------------------------+------------------------------+------------------------------------+-----------------------------+--------------------+--------------------------+---------------------------------+---------------------+----------------------+-----------------------------+-----------------+\n",
      "only showing top 5 rows\n",
      "\n",
      "root\n",
      " |-- Facility ID: double (nullable = true)\n",
      " |-- Facility Name: string (nullable = true)\n",
      " |-- Address: string (nullable = true)\n",
      " |-- City/Town: string (nullable = true)\n",
      " |-- State: string (nullable = true)\n",
      " |-- ZIP Code: integer (nullable = true)\n",
      " |-- County/Parish: string (nullable = true)\n",
      " |-- Telephone Number: string (nullable = true)\n",
      " |-- Hospital Type: string (nullable = true)\n",
      " |-- Hospital Ownership: string (nullable = true)\n",
      " |-- Emergency Services: string (nullable = true)\n",
      " |-- Meets criteria for birthing friendly designation: string (nullable = true)\n",
      " |-- Hospital overall rating: string (nullable = true)\n",
      " |-- Hospital overall rating footnote: string (nullable = true)\n",
      " |-- MORT Group Measure Count: string (nullable = true)\n",
      " |-- Count of Facility MORT Measures: string (nullable = true)\n",
      " |-- Count of MORT Measures Better: string (nullable = true)\n",
      " |-- Count of MORT Measures No Different: string (nullable = true)\n",
      " |-- Count of MORT Measures Worse: string (nullable = true)\n",
      " |-- MORT Group Footnote: integer (nullable = true)\n",
      " |-- Safety Group Measure Count: string (nullable = true)\n",
      " |-- Count of Facility Safety Measures: string (nullable = true)\n",
      " |-- Count of Safety Measures Better: string (nullable = true)\n",
      " |-- Count of Safety Measures No Different: string (nullable = true)\n",
      " |-- Count of Safety Measures Worse: string (nullable = true)\n",
      " |-- Safety Group Footnote: integer (nullable = true)\n",
      " |-- READM Group Measure Count: string (nullable = true)\n",
      " |-- Count of Facility READM Measures: string (nullable = true)\n",
      " |-- Count of READM Measures Better: string (nullable = true)\n",
      " |-- Count of READM Measures No Different: string (nullable = true)\n",
      " |-- Count of READM Measures Worse: string (nullable = true)\n",
      " |-- READM Group Footnote: integer (nullable = true)\n",
      " |-- Pt Exp Group Measure Count: string (nullable = true)\n",
      " |-- Count of Facility Pt Exp Measures: string (nullable = true)\n",
      " |-- Pt Exp Group Footnote: integer (nullable = true)\n",
      " |-- TE Group Measure Count: string (nullable = true)\n",
      " |-- Count of Facility TE Measures: string (nullable = true)\n",
      " |-- TE Group Footnote: integer (nullable = true)\n",
      "\n"
     ]
    }
   ],
   "source": [
    "df = spark.read.csv(\"../data/medicare_inpatient.csv\", header=True, inferSchema=True)\n",
    "df.show(5)\n",
    "df.printSchema()\n"
   ]
  },
  {
   "cell_type": "code",
   "execution_count": null,
   "metadata": {},
   "outputs": [
    {
     "name": "stdout",
     "output_type": "stream",
     "text": [
      "+-----------+-------------+-------+---------+-----+--------+-------------+----------------+-------------+------------------+------------------+------------------------------------------------+-----------------------+--------------------------------+------------------------+-------------------------------+-----------------------------+-----------------------------------+----------------------------+-------------------+--------------------------+---------------------------------+-------------------------------+-------------------------------------+------------------------------+---------------------+-------------------------+--------------------------------+------------------------------+------------------------------------+-----------------------------+--------------------+--------------------------+---------------------------------+---------------------+----------------------+-----------------------------+-----------------+\n",
      "|Facility ID|Facility Name|Address|City/Town|State|ZIP Code|County/Parish|Telephone Number|Hospital Type|Hospital Ownership|Emergency Services|Meets criteria for birthing friendly designation|Hospital overall rating|Hospital overall rating footnote|MORT Group Measure Count|Count of Facility MORT Measures|Count of MORT Measures Better|Count of MORT Measures No Different|Count of MORT Measures Worse|MORT Group Footnote|Safety Group Measure Count|Count of Facility Safety Measures|Count of Safety Measures Better|Count of Safety Measures No Different|Count of Safety Measures Worse|Safety Group Footnote|READM Group Measure Count|Count of Facility READM Measures|Count of READM Measures Better|Count of READM Measures No Different|Count of READM Measures Worse|READM Group Footnote|Pt Exp Group Measure Count|Count of Facility Pt Exp Measures|Pt Exp Group Footnote|TE Group Measure Count|Count of Facility TE Measures|TE Group Footnote|\n",
      "+-----------+-------------+-------+---------+-----+--------+-------------+----------------+-------------+------------------+------------------+------------------------------------------------+-----------------------+--------------------------------+------------------------+-------------------------------+-----------------------------+-----------------------------------+----------------------------+-------------------+--------------------------+---------------------------------+-------------------------------+-------------------------------------+------------------------------+---------------------+-------------------------+--------------------------------+------------------------------+------------------------------------+-----------------------------+--------------------+--------------------------+---------------------------------+---------------------+----------------------+-----------------------------+-----------------+\n",
      "+-----------+-------------+-------+---------+-----+--------+-------------+----------------+-------------+------------------+------------------+------------------------------------------------+-----------------------+--------------------------------+------------------------+-------------------------------+-----------------------------+-----------------------------------+----------------------------+-------------------+--------------------------+---------------------------------+-------------------------------+-------------------------------------+------------------------------+---------------------+-------------------------+--------------------------------+------------------------------+------------------------------------+-----------------------------+--------------------+--------------------------+---------------------------------+---------------------+----------------------+-----------------------------+-----------------+\n",
      "\n"
     ]
    }
   ],
   "source": [
    "from pyspark.sql.functions import col\n",
    "\n",
    "df_cleaned = df.dropna()\n",
    " \n",
    "# Optional: Rename if these exist\n",
    "df_ny = df_ny.withColumnRenamed(\"Address\", \"Location\")\\\n",
    "             .withColumnRenamed(\"ZIP Code\", \"Zip_Code\")\n",
    "\n",
    "df_ny.show(5)\n",
    "\n"
   ]
  },
  {
   "cell_type": "code",
   "execution_count": 36,
   "metadata": {},
   "outputs": [
    {
     "name": "stdout",
     "output_type": "stream",
     "text": [
      "+-----------+--------------------+--------------------+---------+-----+--------+-------------+----------------+--------------------+--------------------+------------------+------------------------------------------------+-----------------------+--------------------------------+------------------------+-------------------------------+-----------------------------+-----------------------------------+----------------------------+-------------------+--------------------------+---------------------------------+-------------------------------+-------------------------------------+------------------------------+---------------------+-------------------------+--------------------------------+------------------------------+------------------------------------+-----------------------------+--------------------+--------------------------+---------------------------------+---------------------+----------------------+-----------------------------+-----------------+\n",
      "|Facility ID|       Facility Name|             Address|City/Town|State|ZIP Code|County/Parish|Telephone Number|       Hospital Type|  Hospital Ownership|Emergency Services|Meets criteria for birthing friendly designation|Hospital overall rating|Hospital overall rating footnote|MORT Group Measure Count|Count of Facility MORT Measures|Count of MORT Measures Better|Count of MORT Measures No Different|Count of MORT Measures Worse|MORT Group Footnote|Safety Group Measure Count|Count of Facility Safety Measures|Count of Safety Measures Better|Count of Safety Measures No Different|Count of Safety Measures Worse|Safety Group Footnote|READM Group Measure Count|Count of Facility READM Measures|Count of READM Measures Better|Count of READM Measures No Different|Count of READM Measures Worse|READM Group Footnote|Pt Exp Group Measure Count|Count of Facility Pt Exp Measures|Pt Exp Group Footnote|TE Group Measure Count|Count of Facility TE Measures|TE Group Footnote|\n",
      "+-----------+--------------------+--------------------+---------+-----+--------+-------------+----------------+--------------------+--------------------+------------------+------------------------------------------------+-----------------------+--------------------------------+------------------------+-------------------------------+-----------------------------+-----------------------------------+----------------------------+-------------------+--------------------------+---------------------------------+-------------------------------+-------------------------------------+------------------------------+---------------------+-------------------------+--------------------------------+------------------------------+------------------------------------+-----------------------------+--------------------+--------------------------+---------------------------------+---------------------+----------------------+-----------------------------+-----------------+\n",
      "|    10001.0|SOUTHEAST HEALTH ...|1108 ROSS CLARK C...|   DOTHAN|   AL|   36301|      HOUSTON|  (334) 793-8701|Acute Care Hospitals|Government - Hosp...|               Yes|                                               Y|                      3|                            NULL|                       7|                              7|                            1|                                  6|                           0|               NULL|                         8|                                7|                              2|                                    5|                             0|                 NULL|                       11|                              11|                             1|                                   8|                            2|                NULL|                         8|                                8|                 NULL|                    12|                           10|             NULL|\n",
      "|    10005.0|MARSHALL MEDICAL ...|2505 U S HIGHWAY ...|     BOAZ|   AL|   35957|     MARSHALL|  (256) 593-8310|Acute Care Hospitals|Government - Hosp...|               Yes|                                            NULL|                      2|                            NULL|                       7|                              6|                            0|                                  5|                           1|               NULL|                         8|                                7|                              0|                                    7|                             0|                 NULL|                       11|                               9|                             0|                                   8|                            1|                NULL|                         8|                                8|                 NULL|                    12|                           12|             NULL|\n",
      "|    10006.0|NORTH ALABAMA MED...| 1701 VETERANS DRIVE| FLORENCE|   AL|   35630|   LAUDERDALE|  (256) 768-8400|Acute Care Hospitals|         Proprietary|               Yes|                                               Y|                      1|                            NULL|                       7|                              7|                            0|                                  6|                           1|               NULL|                         8|                                7|                              3|                                    4|                             0|                 NULL|                       11|                               9|                             0|                                   7|                            2|                NULL|                         8|                                8|                 NULL|                    12|                           11|             NULL|\n",
      "|    10007.0|MIZELL MEMORIAL H...|       702 N MAIN ST|      OPP|   AL|   36467|    COVINGTON|  (334) 493-3541|Acute Care Hospitals|Voluntary non-pro...|               Yes|                                            NULL|                      1|                            NULL|                       7|                              3|                            0|                                  2|                           1|               NULL|                         8|                                2|                              0|                                    2|                             0|                 NULL|                       11|                               7|                             0|                                   7|                            0|                NULL|                         8|                                8|                 NULL|                    12|                            7|             NULL|\n",
      "|    10008.0|CRENSHAW COMMUNIT...| 101 HOSPITAL CIRCLE|  LUVERNE|   AL|   36049|     CRENSHAW|  (334) 335-3374|Acute Care Hospitals|         Proprietary|               Yes|                                            NULL|          Not Available|                              16|                       7|                  Not Available|                Not Available|                      Not Available|               Not Available|                  5|                         8|                    Not Available|                  Not Available|                        Not Available|                 Not Available|                    5|                       11|                               2|                             0|                                   2|                            0|                NULL|                         8|                    Not Available|                    5|                    12|                            6|             NULL|\n",
      "+-----------+--------------------+--------------------+---------+-----+--------+-------------+----------------+--------------------+--------------------+------------------+------------------------------------------------+-----------------------+--------------------------------+------------------------+-------------------------------+-----------------------------+-----------------------------------+----------------------------+-------------------+--------------------------+---------------------------------+-------------------------------+-------------------------------------+------------------------------+---------------------+-------------------------+--------------------------------+------------------------------+------------------------------------+-----------------------------+--------------------+--------------------------+---------------------------------+---------------------+----------------------+-----------------------------+-----------------+\n",
      "only showing top 5 rows\n",
      "\n"
     ]
    }
   ],
   "source": [
    "# Filter by actual column name from your dataset\n",
    "al_df = df.filter(col(\"State\") == \"AL\")\n",
    "al_df.show(5)"
   ]
  }
 ],
 "metadata": {
  "kernelspec": {
   "display_name": "Python 3",
   "language": "python",
   "name": "python3"
  },
  "language_info": {
   "codemirror_mode": {
    "name": "ipython",
    "version": 3
   },
   "file_extension": ".py",
   "mimetype": "text/x-python",
   "name": "python",
   "nbconvert_exporter": "python",
   "pygments_lexer": "ipython3",
   "version": "3.13.1"
  }
 },
 "nbformat": 4,
 "nbformat_minor": 2
}
